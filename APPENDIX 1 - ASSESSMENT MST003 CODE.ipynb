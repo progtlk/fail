{
 "cells": [
  {
   "cell_type": "markdown",
   "metadata": {},
   "source": [
    "Anonymous Code: [P243] \n",
    "    \n",
    "APPENDIX I : MST 003 ASSEMBLING AND MANAGING INNOVATIVE TEAMS ASSESSMENT PAPER\n",
    "\n",
    "What are the major pitfalls in assembling and managing an innovative team in the context of a high potential venture, what would you do to avoid them or at least limit their potential negative impact, when and why? Be careful to substantiate your argument thoroughly by referring to relevant literature. Position your discussion within a specific entrepreneurial context and preferably one in which you have been involved or are currently pursuing. \n",
    "\n",
    "\n",
    "\n",
    "Judge Business School  \n",
    "\n",
    "University of Cambridge \n",
    "\n",
    "Trumpington Road \n",
    "\n",
    "Cambridge  \n",
    "\n",
    "UK \n"
   ]
  },
  {
   "cell_type": "code",
   "execution_count": 1,
   "metadata": {},
   "outputs": [],
   "source": [
    "#########-------METHOD NUMBER ONE - BULDING MULTIPLE MODELS USING DIFFERENT ALGORITHMS----------##########"
   ]
  },
  {
   "cell_type": "code",
   "execution_count": 2,
   "metadata": {},
   "outputs": [
    {
     "name": "stdout",
     "output_type": "stream",
     "text": [
      "    index_i  Name  Category  Location  Year_of_Creation  Year_of_Failure  \\\n",
      "0         0    28         8         6                16                0   \n",
      "1        71    20         4        14                14               71   \n",
      "2        70    57         0        15                15               70   \n",
      "3        69    64         5        15                12               69   \n",
      "4        68    25         7        15                12               68   \n",
      "..      ...   ...       ...       ...               ...              ...   \n",
      "95       28    35        11         6                15               28   \n",
      "96       27    73        10        15                16               27   \n",
      "97       26    17        11        15                13               26   \n",
      "98       86    68         8        15                15               86   \n",
      "99       99     6        12        15                 1               99   \n",
      "\n",
      "    Number_of_Founders  Number_of_Employees  Number_of_Investors  \\\n",
      "0                    1                    8                    1   \n",
      "1                    1                    5                    1   \n",
      "2                    3                    5                   10   \n",
      "3                    2                    3                   10   \n",
      "4                    1                    3                   20   \n",
      "..                 ...                  ...                  ...   \n",
      "95                   2                    5                   10   \n",
      "96                   1                    3                   22   \n",
      "97                   2                    5                   16   \n",
      "98                   1                    3                   12   \n",
      "99                   5                    8                   16   \n",
      "\n",
      "    Number_of_Funding_Rounds  ...  UNIT_K_is_1-M_is_2-No_Data_is_3-Dash_is_4  \\\n",
      "0                          1  ...                                          0   \n",
      "1                          1  ...                                          0   \n",
      "2                          1  ...                                          0   \n",
      "3                          1  ...                                          1   \n",
      "4                          4  ...                                          1   \n",
      "..                       ...  ...                                        ...   \n",
      "95                         1  ...                                          0   \n",
      "96                         3  ...                                          1   \n",
      "97                         3  ...                                          1   \n",
      "98                         4  ...                                          1   \n",
      "99                         1  ...                                          1   \n",
      "\n",
      "    Currency_$_is_1_GBP_is_2_Euro_is_3_SEK_is_4  Decimal_point_position  len  \\\n",
      "0                                             1                       0    3   \n",
      "1                                             2                       0    2   \n",
      "2                                             1                       0    2   \n",
      "3                                             1                       1    3   \n",
      "4                                             1                       1    3   \n",
      "..                                          ...                     ...  ...   \n",
      "95                                            1                       3    5   \n",
      "96                                            1                       2    4   \n",
      "97                                            1                       0    1   \n",
      "98                                            1                       0    2   \n",
      "99                                            1                       0    2   \n",
      "\n",
      "    strip_currency  strip_units  Correct_figure_amount  Correct_amount_in_USD  \\\n",
      "0                0            0                     12                     14   \n",
      "1               71           71                      2                      4   \n",
      "2               70           70                      0                      0   \n",
      "3               69           69                     16                     18   \n",
      "4               68           68                     25                     28   \n",
      "..             ...          ...                    ...                    ...   \n",
      "95              28           28                      5                      7   \n",
      "96              27           27                     41                     44   \n",
      "97              26           26                     22                     24   \n",
      "98              86           86                     58                     61   \n",
      "99              99           99                     58                     61   \n",
      "\n",
      "    Purchasing Power Parity_Factored_Funding_Amount  \\\n",
      "0                                                 0   \n",
      "1                                                71   \n",
      "2                                                70   \n",
      "3                                                69   \n",
      "4                                                68   \n",
      "..                                              ...   \n",
      "95                                               28   \n",
      "96                                               27   \n",
      "97                                               26   \n",
      "98                                               86   \n",
      "99                                               99   \n",
      "\n",
      "    Outcome_sunk_0_treading_water_1  \n",
      "0                                 0  \n",
      "1                                 0  \n",
      "2                                 0  \n",
      "3                                 0  \n",
      "4                                 0  \n",
      "..                              ...  \n",
      "95                                0  \n",
      "96                                0  \n",
      "97                                1  \n",
      "98                                0  \n",
      "99                                0  \n",
      "\n",
      "[100 rows x 25 columns]\n"
     ]
    }
   ],
   "source": [
    "import numpy as np\n",
    "import matplotlib.pyplot as plt\n",
    "import pandas as pd\n",
    "from sklearn.tree import DecisionTreeClassifier\n",
    "from sklearn.ensemble import RandomForestClassifier\n",
    "from sklearn.model_selection import train_test_split\n",
    "from sklearn.metrics import precision_recall_fscore_support, confusion_matrix\n",
    "import xgboost\n",
    "from numpy import loadtxt\n",
    "from xgboost import XGBClassifier\n",
    "from sklearn.metrics import accuracy_score\n",
    "from sklearn import tree\n",
    "from sklearn import preprocessing\n",
    "\n",
    "\n",
    "dataset = pd.read_csv('failory_100i.csv')\n",
    "\n",
    "\n",
    "le = preprocessing.LabelEncoder()            \n",
    "dataset = dataset.apply(le.fit_transform)       \n",
    "\n",
    "\n",
    "print (dataset)"
   ]
  },
  {
   "cell_type": "code",
   "execution_count": null,
   "metadata": {},
   "outputs": [],
   "source": []
  },
  {
   "cell_type": "code",
   "execution_count": 3,
   "metadata": {},
   "outputs": [],
   "source": [
    "import pandas\n",
    "import sklearn\n",
    "import matplotlib.pyplot as plt\n",
    "from sklearn import model_selection\n",
    "from sklearn.linear_model import LogisticRegression, SGDClassifier\n",
    "from sklearn.tree import DecisionTreeClassifier\n",
    "from sklearn.ensemble import RandomForestClassifier, ExtraTreesClassifier\n",
    "from sklearn.neighbors import KNeighborsClassifier\n",
    "from sklearn.discriminant_analysis import LinearDiscriminantAnalysis\n",
    "from sklearn.naive_bayes import GaussianNB\n",
    "from sklearn.svm import SVC\n",
    "\n",
    "array = dataset.values\n",
    "\n",
    "#Split the data into X and Y columns\n",
    "    \n",
    "X = array[:,0:23] # X axis data columns from first to the 23rd  column\n",
    "\n",
    "Y = array[:,-1]   #Y axis data column, the last column\n",
    "\n",
    "\n",
    "# prepare configuration for cross validation test harness\n",
    "#Set the seed value\n",
    "seed = 7\n",
    "\n",
    "# prepare the different algorithms that will be used to build different models\n",
    "models = []\n",
    "models.append(('RF', RandomForestClassifier()))\n",
    "models.append(('LR', LogisticRegression()))\n",
    "models.append(('XT', ExtraTreesClassifier()))\n",
    "models.append(('LDA', LinearDiscriminantAnalysis()))\n",
    "models.append(('SGD', SGDClassifier()))\n",
    "models.append(('KNN', KNeighborsClassifier()))\n",
    "models.append(('ST', DecisionTreeClassifier()))\n",
    "models.append(('NB', GaussianNB()))\n",
    "models.append(('SVM', SVC()))\n"
   ]
  },
  {
   "cell_type": "code",
   "execution_count": 4,
   "metadata": {},
   "outputs": [
    {
     "name": "stderr",
     "output_type": "stream",
     "text": [
      "/opt/conda/lib/python3.7/site-packages/sklearn/model_selection/_split.py:296: FutureWarning: Setting a random_state has no effect since shuffle is False. This will raise an error in 0.24. You should leave random_state to its default (None), or set shuffle=True.\n",
      "  FutureWarning\n"
     ]
    },
    {
     "name": "stdout",
     "output_type": "stream",
     "text": [
      "RF: 0.620000 (0.166132)\n",
      "LR: 0.610000 (0.186815)\n"
     ]
    },
    {
     "name": "stderr",
     "output_type": "stream",
     "text": [
      "/opt/conda/lib/python3.7/site-packages/sklearn/model_selection/_split.py:296: FutureWarning: Setting a random_state has no effect since shuffle is False. This will raise an error in 0.24. You should leave random_state to its default (None), or set shuffle=True.\n",
      "  FutureWarning\n",
      "/opt/conda/lib/python3.7/site-packages/sklearn/linear_model/_logistic.py:939: ConvergenceWarning: lbfgs failed to converge (status=1):\n",
      "STOP: TOTAL NO. of ITERATIONS REACHED LIMIT.\n",
      "\n",
      "Increase the number of iterations (max_iter) or scale the data as shown in:\n",
      "    https://scikit-learn.org/stable/modules/preprocessing.html.\n",
      "Please also refer to the documentation for alternative solver options:\n",
      "    https://scikit-learn.org/stable/modules/linear_model.html#logistic-regression\n",
      "  extra_warning_msg=_LOGISTIC_SOLVER_CONVERGENCE_MSG)\n",
      "/opt/conda/lib/python3.7/site-packages/sklearn/linear_model/_logistic.py:939: ConvergenceWarning: lbfgs failed to converge (status=1):\n",
      "STOP: TOTAL NO. of ITERATIONS REACHED LIMIT.\n",
      "\n",
      "Increase the number of iterations (max_iter) or scale the data as shown in:\n",
      "    https://scikit-learn.org/stable/modules/preprocessing.html.\n",
      "Please also refer to the documentation for alternative solver options:\n",
      "    https://scikit-learn.org/stable/modules/linear_model.html#logistic-regression\n",
      "  extra_warning_msg=_LOGISTIC_SOLVER_CONVERGENCE_MSG)\n",
      "/opt/conda/lib/python3.7/site-packages/sklearn/linear_model/_logistic.py:939: ConvergenceWarning: lbfgs failed to converge (status=1):\n",
      "STOP: TOTAL NO. of ITERATIONS REACHED LIMIT.\n",
      "\n",
      "Increase the number of iterations (max_iter) or scale the data as shown in:\n",
      "    https://scikit-learn.org/stable/modules/preprocessing.html.\n",
      "Please also refer to the documentation for alternative solver options:\n",
      "    https://scikit-learn.org/stable/modules/linear_model.html#logistic-regression\n",
      "  extra_warning_msg=_LOGISTIC_SOLVER_CONVERGENCE_MSG)\n",
      "/opt/conda/lib/python3.7/site-packages/sklearn/linear_model/_logistic.py:939: ConvergenceWarning: lbfgs failed to converge (status=1):\n",
      "STOP: TOTAL NO. of ITERATIONS REACHED LIMIT.\n",
      "\n",
      "Increase the number of iterations (max_iter) or scale the data as shown in:\n",
      "    https://scikit-learn.org/stable/modules/preprocessing.html.\n",
      "Please also refer to the documentation for alternative solver options:\n",
      "    https://scikit-learn.org/stable/modules/linear_model.html#logistic-regression\n",
      "  extra_warning_msg=_LOGISTIC_SOLVER_CONVERGENCE_MSG)\n",
      "/opt/conda/lib/python3.7/site-packages/sklearn/linear_model/_logistic.py:939: ConvergenceWarning: lbfgs failed to converge (status=1):\n",
      "STOP: TOTAL NO. of ITERATIONS REACHED LIMIT.\n",
      "\n",
      "Increase the number of iterations (max_iter) or scale the data as shown in:\n",
      "    https://scikit-learn.org/stable/modules/preprocessing.html.\n",
      "Please also refer to the documentation for alternative solver options:\n",
      "    https://scikit-learn.org/stable/modules/linear_model.html#logistic-regression\n",
      "  extra_warning_msg=_LOGISTIC_SOLVER_CONVERGENCE_MSG)\n",
      "/opt/conda/lib/python3.7/site-packages/sklearn/linear_model/_logistic.py:939: ConvergenceWarning: lbfgs failed to converge (status=1):\n",
      "STOP: TOTAL NO. of ITERATIONS REACHED LIMIT.\n",
      "\n",
      "Increase the number of iterations (max_iter) or scale the data as shown in:\n",
      "    https://scikit-learn.org/stable/modules/preprocessing.html.\n",
      "Please also refer to the documentation for alternative solver options:\n",
      "    https://scikit-learn.org/stable/modules/linear_model.html#logistic-regression\n",
      "  extra_warning_msg=_LOGISTIC_SOLVER_CONVERGENCE_MSG)\n",
      "/opt/conda/lib/python3.7/site-packages/sklearn/linear_model/_logistic.py:939: ConvergenceWarning: lbfgs failed to converge (status=1):\n",
      "STOP: TOTAL NO. of ITERATIONS REACHED LIMIT.\n",
      "\n",
      "Increase the number of iterations (max_iter) or scale the data as shown in:\n",
      "    https://scikit-learn.org/stable/modules/preprocessing.html.\n",
      "Please also refer to the documentation for alternative solver options:\n",
      "    https://scikit-learn.org/stable/modules/linear_model.html#logistic-regression\n",
      "  extra_warning_msg=_LOGISTIC_SOLVER_CONVERGENCE_MSG)\n",
      "/opt/conda/lib/python3.7/site-packages/sklearn/linear_model/_logistic.py:939: ConvergenceWarning: lbfgs failed to converge (status=1):\n",
      "STOP: TOTAL NO. of ITERATIONS REACHED LIMIT.\n",
      "\n",
      "Increase the number of iterations (max_iter) or scale the data as shown in:\n",
      "    https://scikit-learn.org/stable/modules/preprocessing.html.\n",
      "Please also refer to the documentation for alternative solver options:\n",
      "    https://scikit-learn.org/stable/modules/linear_model.html#logistic-regression\n",
      "  extra_warning_msg=_LOGISTIC_SOLVER_CONVERGENCE_MSG)\n",
      "/opt/conda/lib/python3.7/site-packages/sklearn/linear_model/_logistic.py:939: ConvergenceWarning: lbfgs failed to converge (status=1):\n",
      "STOP: TOTAL NO. of ITERATIONS REACHED LIMIT.\n",
      "\n",
      "Increase the number of iterations (max_iter) or scale the data as shown in:\n",
      "    https://scikit-learn.org/stable/modules/preprocessing.html.\n",
      "Please also refer to the documentation for alternative solver options:\n",
      "    https://scikit-learn.org/stable/modules/linear_model.html#logistic-regression\n",
      "  extra_warning_msg=_LOGISTIC_SOLVER_CONVERGENCE_MSG)\n",
      "/opt/conda/lib/python3.7/site-packages/sklearn/linear_model/_logistic.py:939: ConvergenceWarning: lbfgs failed to converge (status=1):\n",
      "STOP: TOTAL NO. of ITERATIONS REACHED LIMIT.\n",
      "\n",
      "Increase the number of iterations (max_iter) or scale the data as shown in:\n",
      "    https://scikit-learn.org/stable/modules/preprocessing.html.\n",
      "Please also refer to the documentation for alternative solver options:\n",
      "    https://scikit-learn.org/stable/modules/linear_model.html#logistic-regression\n",
      "  extra_warning_msg=_LOGISTIC_SOLVER_CONVERGENCE_MSG)\n",
      "/opt/conda/lib/python3.7/site-packages/sklearn/model_selection/_split.py:296: FutureWarning: Setting a random_state has no effect since shuffle is False. This will raise an error in 0.24. You should leave random_state to its default (None), or set shuffle=True.\n",
      "  FutureWarning\n"
     ]
    },
    {
     "name": "stdout",
     "output_type": "stream",
     "text": [
      "XT: 0.600000 (0.184391)\n",
      "LDA: 0.620000 (0.193907)\n",
      "SGD: 0.610000 (0.216564)\n",
      "KNN: 0.630000 (0.179165)\n",
      "ST: 0.490000 (0.113578)\n",
      "NB: 0.560000 (0.168523)\n",
      "SVM: 0.720000 (0.208806)\n"
     ]
    },
    {
     "name": "stderr",
     "output_type": "stream",
     "text": [
      "/opt/conda/lib/python3.7/site-packages/sklearn/model_selection/_split.py:296: FutureWarning: Setting a random_state has no effect since shuffle is False. This will raise an error in 0.24. You should leave random_state to its default (None), or set shuffle=True.\n",
      "  FutureWarning\n",
      "/opt/conda/lib/python3.7/site-packages/sklearn/model_selection/_split.py:296: FutureWarning: Setting a random_state has no effect since shuffle is False. This will raise an error in 0.24. You should leave random_state to its default (None), or set shuffle=True.\n",
      "  FutureWarning\n",
      "/opt/conda/lib/python3.7/site-packages/sklearn/model_selection/_split.py:296: FutureWarning: Setting a random_state has no effect since shuffle is False. This will raise an error in 0.24. You should leave random_state to its default (None), or set shuffle=True.\n",
      "  FutureWarning\n",
      "/opt/conda/lib/python3.7/site-packages/sklearn/model_selection/_split.py:296: FutureWarning: Setting a random_state has no effect since shuffle is False. This will raise an error in 0.24. You should leave random_state to its default (None), or set shuffle=True.\n",
      "  FutureWarning\n",
      "/opt/conda/lib/python3.7/site-packages/sklearn/model_selection/_split.py:296: FutureWarning: Setting a random_state has no effect since shuffle is False. This will raise an error in 0.24. You should leave random_state to its default (None), or set shuffle=True.\n",
      "  FutureWarning\n",
      "/opt/conda/lib/python3.7/site-packages/sklearn/model_selection/_split.py:296: FutureWarning: Setting a random_state has no effect since shuffle is False. This will raise an error in 0.24. You should leave random_state to its default (None), or set shuffle=True.\n",
      "  FutureWarning\n"
     ]
    }
   ],
   "source": [
    "results = []\n",
    "names = []\n",
    "scoring = 'accuracy'\n",
    "\n",
    "for name, model in models:\n",
    "\tkfold = model_selection.KFold(n_splits=10, random_state=seed)\n",
    "\tcv_results = model_selection.cross_val_score(model, X, Y, cv=kfold, scoring=scoring)\n",
    "\tresults.append(cv_results)\n",
    "\tnames.append(name)\n",
    "\tmsg = \"%s: %f (%f)\" % (name, cv_results.mean(), cv_results.std())\n",
    "\tprint(msg)\n",
    "    "
   ]
  },
  {
   "cell_type": "code",
   "execution_count": 5,
   "metadata": {},
   "outputs": [
    {
     "data": {
      "image/png": "[encoded data removed]",
      "text/plain": [
       "<Figure size 432x288 with 1 Axes>"
      ]
     },
     "metadata": {
      "needs_background": "light"
     },
     "output_type": "display_data"
    }
   ],
   "source": [
    "fig = plt.figure()\n",
    "fig.suptitle('Algorithm Comparison')\n",
    "ax = fig.add_subplot(111)\n",
    "plt.boxplot(results)\n",
    "ax.set_xticklabels(names)\n",
    "plt.show()"
   ]
  },
  {
   "cell_type": "code",
   "execution_count": 6,
   "metadata": {},
   "outputs": [],
   "source": [
    "# As can be seen above the average accuracy for:\n",
    "#\n",
    "# Random Forest = 62%\n",
    "# Logistic Regression = 61%\n",
    "# ExtraTrees Classifier = 60%\n",
    "# Linear Discriminant Analysis = 62%\n",
    "# Stochastic Gradient Descent Classifier = 61%\n",
    "# K Nearest Neighbors Classifier =63%\n",
    "# Decision Tree Classifier = 49%\n",
    "# Gaussian Naive Bayes = 56%\n",
    "# Support Vector Machine = 72%\n",
    "\n",
    "\n",
    "# These are clearly not the greatest models for helping us with predicting failures of startups. So better \n",
    "# algorithms are needed for better performance."
   ]
  },
  {
   "cell_type": "code",
   "execution_count": 7,
   "metadata": {},
   "outputs": [],
   "source": [
    "##########--------------------------------END OF METHOD NUMBER 1----------------------------#################"
   ]
  },
  {
   "cell_type": "code",
   "execution_count": 8,
   "metadata": {},
   "outputs": [],
   "source": [
    "#########-----------------------------------METHOD NUMBER TWO-------------------------------#################"
   ]
  },
  {
   "cell_type": "code",
   "execution_count": 9,
   "metadata": {},
   "outputs": [],
   "source": [
    "# Boosting algorithms are known to be better at achieving higher performances.\n",
    "# For this case I will use Xtreme Gradient Boosting algorithm commonly referred to as XGBoost"
   ]
  },
  {
   "cell_type": "code",
   "execution_count": null,
   "metadata": {},
   "outputs": [],
   "source": []
  },
  {
   "cell_type": "code",
   "execution_count": 10,
   "metadata": {},
   "outputs": [],
   "source": [
    "import numpy as np\n",
    "import matplotlib.pyplot as plt\n",
    "import pandas as pd\n",
    "#from sklearn.tree import DecisionTreeClassifier\n",
    "from sklearn.ensemble import RandomForestClassifier, GradientBoostingClassifier\n",
    "from sklearn.model_selection import train_test_split\n",
    "from sklearn.metrics import precision_recall_fscore_support, confusion_matrix\n",
    "\n",
    "dataset = pd.read_csv('failory_100i.csv')   "
   ]
  },
  {
   "cell_type": "code",
   "execution_count": 11,
   "metadata": {},
   "outputs": [
    {
     "data": {
      "text/plain": [
       "Index(['index_i', 'Name', 'Category', 'Location', 'Year_of_Creation',\n",
       "       'Year_of_Failure', 'Number_of_Founders', 'Number_of_Employees',\n",
       "       'Number_of_Investors', 'Number_of_Funding_Rounds',\n",
       "       'Total_Funding_Amount', 'Specific_Cause_of_Failure', 'Outcome',\n",
       "       'blank_1', 'Number_of_Employees_unified',\n",
       "       'UNIT_K_is_1-M_is_2-No_Data_is_3-Dash_is_4',\n",
       "       'Currency_$_is_1_GBP_is_2_Euro_is_3_SEK_is_4', 'Decimal_point_position',\n",
       "       'len', 'strip_currency', 'strip_units', 'Correct_figure_amount',\n",
       "       'Correct_amount_in_USD',\n",
       "       'Purchasing Power Parity_Factored_Funding_Amount',\n",
       "       'Outcome_sunk_0_treading_water_1'],\n",
       "      dtype='object')"
      ]
     },
     "execution_count": 11,
     "metadata": {},
     "output_type": "execute_result"
    }
   ],
   "source": [
    "dataset.columns      "
   ]
  },
  {
   "cell_type": "code",
   "execution_count": 12,
   "metadata": {},
   "outputs": [
    {
     "name": "stdout",
     "output_type": "stream",
     "text": [
      "    index_i  Name  Category  Location  Year_of_Creation  Year_of_Failure  \\\n",
      "0         0    28         8         6                16                0   \n",
      "1        71    20         4        14                14               71   \n",
      "2        70    57         0        15                15               70   \n",
      "3        69    64         5        15                12               69   \n",
      "4        68    25         7        15                12               68   \n",
      "..      ...   ...       ...       ...               ...              ...   \n",
      "95       28    35        11         6                15               28   \n",
      "96       27    73        10        15                16               27   \n",
      "97       26    17        11        15                13               26   \n",
      "98       86    68         8        15                15               86   \n",
      "99       99     6        12        15                 1               99   \n",
      "\n",
      "    Number_of_Founders  Number_of_Employees  Number_of_Investors  \\\n",
      "0                    1                    8                    1   \n",
      "1                    1                    5                    1   \n",
      "2                    3                    5                   10   \n",
      "3                    2                    3                   10   \n",
      "4                    1                    3                   20   \n",
      "..                 ...                  ...                  ...   \n",
      "95                   2                    5                   10   \n",
      "96                   1                    3                   22   \n",
      "97                   2                    5                   16   \n",
      "98                   1                    3                   12   \n",
      "99                   5                    8                   16   \n",
      "\n",
      "    Number_of_Funding_Rounds  ...  UNIT_K_is_1-M_is_2-No_Data_is_3-Dash_is_4  \\\n",
      "0                          1  ...                                          0   \n",
      "1                          1  ...                                          0   \n",
      "2                          1  ...                                          0   \n",
      "3                          1  ...                                          1   \n",
      "4                          4  ...                                          1   \n",
      "..                       ...  ...                                        ...   \n",
      "95                         1  ...                                          0   \n",
      "96                         3  ...                                          1   \n",
      "97                         3  ...                                          1   \n",
      "98                         4  ...                                          1   \n",
      "99                         1  ...                                          1   \n",
      "\n",
      "    Currency_$_is_1_GBP_is_2_Euro_is_3_SEK_is_4  Decimal_point_position  len  \\\n",
      "0                                             1                       0    3   \n",
      "1                                             2                       0    2   \n",
      "2                                             1                       0    2   \n",
      "3                                             1                       1    3   \n",
      "4                                             1                       1    3   \n",
      "..                                          ...                     ...  ...   \n",
      "95                                            1                       3    5   \n",
      "96                                            1                       2    4   \n",
      "97                                            1                       0    1   \n",
      "98                                            1                       0    2   \n",
      "99                                            1                       0    2   \n",
      "\n",
      "    strip_currency  strip_units  Correct_figure_amount  Correct_amount_in_USD  \\\n",
      "0                0            0                     12                     14   \n",
      "1               71           71                      2                      4   \n",
      "2               70           70                      0                      0   \n",
      "3               69           69                     16                     18   \n",
      "4               68           68                     25                     28   \n",
      "..             ...          ...                    ...                    ...   \n",
      "95              28           28                      5                      7   \n",
      "96              27           27                     41                     44   \n",
      "97              26           26                     22                     24   \n",
      "98              86           86                     58                     61   \n",
      "99              99           99                     58                     61   \n",
      "\n",
      "    Purchasing Power Parity_Factored_Funding_Amount  \\\n",
      "0                                                 0   \n",
      "1                                                71   \n",
      "2                                                70   \n",
      "3                                                69   \n",
      "4                                                68   \n",
      "..                                              ...   \n",
      "95                                               28   \n",
      "96                                               27   \n",
      "97                                               26   \n",
      "98                                               86   \n",
      "99                                               99   \n",
      "\n",
      "    Outcome_sunk_0_treading_water_1  \n",
      "0                                 0  \n",
      "1                                 0  \n",
      "2                                 0  \n",
      "3                                 0  \n",
      "4                                 0  \n",
      "..                              ...  \n",
      "95                                0  \n",
      "96                                0  \n",
      "97                                1  \n",
      "98                                0  \n",
      "99                                0  \n",
      "\n",
      "[100 rows x 25 columns]\n"
     ]
    }
   ],
   "source": [
    "import numpy as np\n",
    "import matplotlib.pyplot as plt\n",
    "import pandas as pd\n",
    "#from sklearn.tree import DecisionTreeClassifier\n",
    "from sklearn.ensemble import RandomForestClassifier, GradientBoostingClassifier\n",
    "from sklearn.model_selection import train_test_split\n",
    "from sklearn.metrics import precision_recall_fscore_support, confusion_matrix\n",
    "import xgboost\n",
    "from numpy import loadtxt\n",
    "from xgboost import XGBClassifier\n",
    "from sklearn.metrics import accuracy_score\n",
    "from sklearn import tree\n",
    "from sklearn import preprocessing\n",
    "\n",
    "\n",
    "dataset = pd.read_csv('failory_100i.csv') \n",
    "\n",
    "\n",
    "le = preprocessing.LabelEncoder()\n",
    "dataset = dataset.apply(le.fit_transform)\n",
    "\n",
    "\n",
    "print (dataset)\n"
   ]
  },
  {
   "cell_type": "code",
   "execution_count": null,
   "metadata": {},
   "outputs": [],
   "source": []
  },
  {
   "cell_type": "code",
   "execution_count": 13,
   "metadata": {},
   "outputs": [
    {
     "name": "stdout",
     "output_type": "stream",
     "text": [
      "Accuracy: 100.00%\n",
      "[0.08427302 0.06147466 0.04877925 0.0624054  0.08453409 0.\n",
      " 0.04384633 0.07981653 0.06109693 0.06549577 0.05848463 0.04559724\n",
      " 0.         0.         0.03627019 0.         0.         0.04986937\n",
      " 0.08616403 0.         0.         0.08247014 0.04942243]\n"
     ]
    },
    {
     "data": {
      "image/png": "[encoded data removed]",
      "text/plain": [
       "<Figure size 432x288 with 1 Axes>"
      ]
     },
     "metadata": {
      "needs_background": "light"
     },
     "output_type": "display_data"
    }
   ],
   "source": [
    "from xgboost import plot_importance\n",
    "from matplotlib import pyplot\n",
    "\n",
    "X = dataset.iloc[:,0:23].values\n",
    "Y = dataset.iloc[:,-1].values   \n",
    "\n",
    "seed = 72         \n",
    "test_size = 0.1   \n",
    "\n",
    "X_train, X_test, y_train, y_test = train_test_split(X, Y, test_size=test_size, random_state=seed)\n",
    "\n",
    "model = XGBClassifier()\n",
    "model.fit(X_train, y_train)\n",
    "\n",
    "y_pred = model.predict(X_test)\n",
    "predictions = [round(value) for value in y_pred]\n",
    "\n",
    "accuracy = accuracy_score(y_test, predictions)\n",
    "print(\"Accuracy: %.2f%%\" % (accuracy * 100.0))\n",
    "\n",
    "print(model.feature_importances_)\n",
    "\n",
    "\n",
    "plot_importance(model)\n",
    "pyplot.show()"
   ]
  },
  {
   "cell_type": "code",
   "execution_count": 14,
   "metadata": {},
   "outputs": [],
   "source": [
    "# The accuracy of this model above is 100% as can be seen above"
   ]
  },
  {
   "cell_type": "code",
   "execution_count": 15,
   "metadata": {},
   "outputs": [],
   "source": [
    "# The feature importance information above would be clearer if we show which importance number corresponds to \n",
    "# to which feature. The larger the number the more important the feature is in building this model's prediction \n",
    "# capability"
   ]
  },
  {
   "cell_type": "code",
   "execution_count": 16,
   "metadata": {},
   "outputs": [
    {
     "name": "stdout",
     "output_type": "stream",
     "text": [
      "Feature Importances For Our XGBOOST Model Above\n",
      "\n",
      "index_i: 0.08427301794290543\n",
      "Name: 0.06147465854883194\n",
      "Category: 0.04877925291657448\n",
      "Location: 0.06240539997816086\n",
      "Year_of_Creation: 0.08453408628702164\n",
      "Year_of_Failure: 0.0\n",
      "Number_of_Founders: 0.04384633153676987\n",
      "Number_of_Employees: 0.07981652766466141\n",
      "Number_of_Investors: 0.061096932739019394\n",
      "Number_of_Funding_Rounds: 0.06549576669931412\n",
      "Total_Funding_Amount: 0.058484628796577454\n",
      "Specific_Cause_of_Failure: 0.045597244054079056\n",
      "Outcome: 0.0\n",
      "blank_1: 0.0\n",
      "Number_of_Employees_unified: 0.03627018630504608\n",
      "UNIT_K_is_1-M_is_2-No_Data_is_3-Dash_is_4: 0.0\n",
      "Currency_$_is_1_GBP_is_2_Euro_is_3_SEK_is_4: 0.0\n",
      "Decimal_point_position: 0.04986937344074249\n",
      "len: 0.08616402745246887\n",
      "strip_currency: 0.0\n",
      "strip_units: 0.0\n",
      "Correct_figure_amount: 0.08247014135122299\n",
      "Correct_amount_in_USD: 0.049422431737184525\n"
     ]
    }
   ],
   "source": [
    "print('Feature Importances For Our XGBOOST Model Above\\n')\n",
    "for importance,feature in zip(model.feature_importances_,['index_i', 'Name', 'Category', 'Location', 'Year_of_Creation',\n",
    "       'Year_of_Failure', 'Number_of_Founders', 'Number_of_Employees',\n",
    "       'Number_of_Investors', 'Number_of_Funding_Rounds',\n",
    "       'Total_Funding_Amount', 'Specific_Cause_of_Failure', 'Outcome',\n",
    "       'blank_1', 'Number_of_Employees_unified',\n",
    "       'UNIT_K_is_1-M_is_2-No_Data_is_3-Dash_is_4',\n",
    "       'Currency_$_is_1_GBP_is_2_Euro_is_3_SEK_is_4', 'Decimal_point_position',\n",
    "       'len', 'strip_currency', 'strip_units', 'Correct_figure_amount',\n",
    "       'Correct_amount_in_USD',\n",
    "       'Purchasing Power Parity_Factored_Funding_Amount' ]):\n",
    "    print('{}: {}'.format(feature,importance))\n",
    "    \n",
    "    "
   ]
  },
  {
   "cell_type": "code",
   "execution_count": 17,
   "metadata": {},
   "outputs": [],
   "source": [
    "# Important Factors that seem to be critical in this model that founders can manage appear to be:\n",
    "\n",
    "\n",
    "# The total amount of funding the venture received\n",
    "# The location where the company is based is also of importance\n",
    "# The timing of launch as in year the company was formed is also important\n",
    "\n"
   ]
  },
  {
   "cell_type": "code",
   "execution_count": 18,
   "metadata": {},
   "outputs": [],
   "source": [
    "# QUESTION THEN BECOMES WHAT COULD INCREASE THE CHANCES OF A COMPANY TO SUCCEED FROM THIS LIST OF \n",
    "# CONTROLLABLE FACTORS? THIS QUESTION AS WELL AS OTHER DIRECTLY AND INDIRECTLY RELATED TO IT ARE GOING TO BE THE \n",
    "# BULK OF MY FUTURE WORK, AS WELL AS FINE TUNING SOME OF THESE FACTORS TO SEE WHICH ONES WHEN PUT IN WHAT COMBINATIONS \n",
    "# WOULD HELP FOUNDERS AVOID SOME OF THE MAJOR PITFALLS THUS REDUCE THE CHANCES OF FAILURE IN THE CONTEXT OF HIGH \n",
    "# POTENTIAL VENTURES. OR IN OTHER WORDS - INCREASE THE HIGH POTENTIAL VENTURE'S CHANCES OF SUCCESS"
   ]
  },
  {
   "cell_type": "code",
   "execution_count": null,
   "metadata": {},
   "outputs": [],
   "source": []
  }
 ],
 "metadata": {
  "kernelspec": {
   "display_name": "Python 3",
   "language": "python",
   "name": "python3"
  },
  "language_info": {
   "codemirror_mode": {
    "name": "ipython",
    "version": 3
   },
   "file_extension": ".py",
   "mimetype": "text/x-python",
   "name": "python",
   "nbconvert_exporter": "python",
   "pygments_lexer": "ipython3",
   "version": "3.7.3"
  }
 },
 "nbformat": 4,
 "nbformat_minor": 2
}
